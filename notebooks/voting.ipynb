{
 "cells": [
  {
   "cell_type": "code",
   "execution_count": 1,
   "metadata": {
    "collapsed": true
   },
   "outputs": [],
   "source": [
    "import os\n",
    "import pandas as pd\n",
    "VOTING_PATH = os.path.join(\"../datasets\", \"iris\")"
   ]
  },
  {
   "cell_type": "code",
   "execution_count": 2,
   "outputs": [],
   "source": [
    "def load_voting_data(voting_path=VOTING_PATH):\n",
    "    csv_path=os.path.join(voting_path, 'house-votes-84.csv')\n",
    "    return pd.read_csv(csv_path, header=None)\n",
    "\n",
    "df=load_voting_data()"
   ],
   "metadata": {
    "collapsed": false,
    "pycharm": {
     "name": "#%%\n"
    }
   }
  },
  {
   "cell_type": "code",
   "execution_count": 3,
   "outputs": [
    {
     "data": {
      "text/plain": "        party infants water budget physician salvador religious satellite aid  \\\n0  republican       n     y      n         y        y         y         n   n   \n1  republican       n     y      n         y        y         y         n   n   \n2    democrat       ?     y      y         ?        y         y         n   n   \n3    democrat       n     y      y         n        ?         y         n   n   \n4    democrat       y     y      y         n        y         y         n   n   \n\n  missile immigration synfuels education superfund crime duty_free_exports  \\\n0       n           y        ?         y         y     y                 n   \n1       n           n        n         y         y     y                 n   \n2       n           n        y         n         y     y                 n   \n3       n           n        y         n         y     n                 n   \n4       n           n        y         ?         y     y                 y   \n\n  eaa_rsa  \n0       y  \n1       ?  \n2       n  \n3       y  \n4       y  ",
      "text/html": "<div>\n<style scoped>\n    .dataframe tbody tr th:only-of-type {\n        vertical-align: middle;\n    }\n\n    .dataframe tbody tr th {\n        vertical-align: top;\n    }\n\n    .dataframe thead th {\n        text-align: right;\n    }\n</style>\n<table border=\"1\" class=\"dataframe\">\n  <thead>\n    <tr style=\"text-align: right;\">\n      <th></th>\n      <th>party</th>\n      <th>infants</th>\n      <th>water</th>\n      <th>budget</th>\n      <th>physician</th>\n      <th>salvador</th>\n      <th>religious</th>\n      <th>satellite</th>\n      <th>aid</th>\n      <th>missile</th>\n      <th>immigration</th>\n      <th>synfuels</th>\n      <th>education</th>\n      <th>superfund</th>\n      <th>crime</th>\n      <th>duty_free_exports</th>\n      <th>eaa_rsa</th>\n    </tr>\n  </thead>\n  <tbody>\n    <tr>\n      <th>0</th>\n      <td>republican</td>\n      <td>n</td>\n      <td>y</td>\n      <td>n</td>\n      <td>y</td>\n      <td>y</td>\n      <td>y</td>\n      <td>n</td>\n      <td>n</td>\n      <td>n</td>\n      <td>y</td>\n      <td>?</td>\n      <td>y</td>\n      <td>y</td>\n      <td>y</td>\n      <td>n</td>\n      <td>y</td>\n    </tr>\n    <tr>\n      <th>1</th>\n      <td>republican</td>\n      <td>n</td>\n      <td>y</td>\n      <td>n</td>\n      <td>y</td>\n      <td>y</td>\n      <td>y</td>\n      <td>n</td>\n      <td>n</td>\n      <td>n</td>\n      <td>n</td>\n      <td>n</td>\n      <td>y</td>\n      <td>y</td>\n      <td>y</td>\n      <td>n</td>\n      <td>?</td>\n    </tr>\n    <tr>\n      <th>2</th>\n      <td>democrat</td>\n      <td>?</td>\n      <td>y</td>\n      <td>y</td>\n      <td>?</td>\n      <td>y</td>\n      <td>y</td>\n      <td>n</td>\n      <td>n</td>\n      <td>n</td>\n      <td>n</td>\n      <td>y</td>\n      <td>n</td>\n      <td>y</td>\n      <td>y</td>\n      <td>n</td>\n      <td>n</td>\n    </tr>\n    <tr>\n      <th>3</th>\n      <td>democrat</td>\n      <td>n</td>\n      <td>y</td>\n      <td>y</td>\n      <td>n</td>\n      <td>?</td>\n      <td>y</td>\n      <td>n</td>\n      <td>n</td>\n      <td>n</td>\n      <td>n</td>\n      <td>y</td>\n      <td>n</td>\n      <td>y</td>\n      <td>n</td>\n      <td>n</td>\n      <td>y</td>\n    </tr>\n    <tr>\n      <th>4</th>\n      <td>democrat</td>\n      <td>y</td>\n      <td>y</td>\n      <td>y</td>\n      <td>n</td>\n      <td>y</td>\n      <td>y</td>\n      <td>n</td>\n      <td>n</td>\n      <td>n</td>\n      <td>n</td>\n      <td>y</td>\n      <td>?</td>\n      <td>y</td>\n      <td>y</td>\n      <td>y</td>\n      <td>y</td>\n    </tr>\n  </tbody>\n</table>\n</div>"
     },
     "execution_count": 3,
     "metadata": {},
     "output_type": "execute_result"
    }
   ],
   "source": [
    "new_names=dict(zip(df.columns, ['party', 'infants', 'water', 'budget', 'physician', 'salvador', 'religious',\n",
    "                                'satellite', 'aid', 'missile', 'immigration', 'synfuels', 'education',\n",
    "                                'superfund', 'crime', 'duty_free_exports', 'eaa_rsa']))\n",
    "df.rename(columns=new_names, inplace=True)\n",
    "df.head()"
   ],
   "metadata": {
    "collapsed": false,
    "pycharm": {
     "name": "#%%\n"
    }
   }
  },
  {
   "cell_type": "code",
   "execution_count": 3,
   "outputs": [],
   "source": [],
   "metadata": {
    "collapsed": false,
    "pycharm": {
     "name": "#%%\n"
    }
   }
  }
 ],
 "metadata": {
  "kernelspec": {
   "display_name": "Python 3",
   "language": "python",
   "name": "python3"
  },
  "language_info": {
   "codemirror_mode": {
    "name": "ipython",
    "version": 2
   },
   "file_extension": ".py",
   "mimetype": "text/x-python",
   "name": "python",
   "nbconvert_exporter": "python",
   "pygments_lexer": "ipython2",
   "version": "2.7.6"
  }
 },
 "nbformat": 4,
 "nbformat_minor": 0
}